{
 "cells": [
  {
   "cell_type": "code",
   "execution_count": null,
   "metadata": {},
   "outputs": [],
   "source": [
    "!pip install picsellia"
   ]
  },
  {
   "cell_type": "code",
   "execution_count": null,
   "metadata": {},
   "outputs": [],
   "source": [
    "from picsellia import Client\n",
    "from picsellia.types.enums import Framework, InferenceType\n",
    "from picsellia.sdk.model import Model\n",
    "from picsellia.sdk.model_version import ModelVersion\n"
   ]
  },
  {
   "cell_type": "code",
   "execution_count": null,
   "metadata": {},
   "outputs": [],
   "source": [
    "api_token = \"\"\n",
    "organization_name = \"\"\n",
    "client = Client(api_token=api_token, organization_name=organization_name)\n",
    "\n",
    "model_name = \"\"\n",
    "model: Model = client.create_model(\n",
    "  name=model_name, \n",
    "  type=InferenceType.CLASSIFICATION, \n",
    "  framework=Framework.TENSORFLOW, \n",
    "  private=True)\n",
    "version: ModelVersion = model.create_version()\n",
    "\n",
    "base_parameters = {\n",
    "  \"image_size\": 320,\n",
    "  \"batch_size\": 4,\n",
    "  \"epochs\": 100,\n",
    "  \"learning_rate\": 0.001\n",
    "}\n",
    "\n",
    "# It's important that the labels keys starts at \"1\"\n",
    "labels = { \n",
    "  \"1\": \"normal\",\n",
    "  \"2\": \"covid\",\n",
    "  \"3\": \"pneumonia\"\n",
    "}\n",
    "\n",
    "version.update(\n",
    "  base_parameters=base_parameters,\n",
    "  labels=labels\n",
    ")\n",
    "\n",
    "docker_image_name = \"picsellpn/classification-keras\"\n",
    "docker_flags = [\"--gpus all\", \"--name training\"]\n",
    "version.update(docker_image_name=docker_image_name, docker_flags=docker_flags)\n",
    "\n",
    "keras_model_path = \"\"\n",
    "version.store('keras-model', keras_model_path)"
   ]
  }
 ],
 "metadata": {
  "interpreter": {
   "hash": "2ede351fee9815e88103fe5f24f20376811734c1c454b31826e1ed158ddffec3"
  },
  "kernelspec": {
   "display_name": "Python 3.9.14 ('dev')",
   "language": "python",
   "name": "python3"
  },
  "language_info": {
   "name": "python",
   "version": "3.9.14"
  },
  "orig_nbformat": 4
 },
 "nbformat": 4,
 "nbformat_minor": 2
}
